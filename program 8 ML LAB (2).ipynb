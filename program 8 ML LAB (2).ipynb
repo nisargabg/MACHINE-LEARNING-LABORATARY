{
 "cells": [
  {
   "cell_type": "code",
   "execution_count": 16,
   "id": "a62ec996",
   "metadata": {},
   "outputs": [],
   "source": [
    "\n",
    "import numpy as np"
   ]
  },
  {
   "cell_type": "code",
   "execution_count": 17,
   "id": "3d1977c5",
   "metadata": {},
   "outputs": [],
   "source": [
    "def sigmoid(x):\n",
    "    return 1/(1+np.exp(-x))"
   ]
  },
  {
   "cell_type": "code",
   "execution_count": 18,
   "id": "431367ef",
   "metadata": {},
   "outputs": [],
   "source": [
    "def sigmoid_derivation(x):\n",
    "    return x*(x-1)"
   ]
  },
  {
   "cell_type": "code",
   "execution_count": 19,
   "id": "6944d686",
   "metadata": {},
   "outputs": [],
   "source": [
    "input = np.array([[0,0,1],\n",
    "                  [1,1,1],\n",
    "                  [1,0,1],\n",
    "                  [0,1,1]])"
   ]
  },
  {
   "cell_type": "code",
   "execution_count": 20,
   "id": "fd832630",
   "metadata": {},
   "outputs": [],
   "source": [
    "a_output = np.array([[0,1,1,0]]).T"
   ]
  },
  {
   "cell_type": "code",
   "execution_count": 21,
   "id": "712586d5",
   "metadata": {},
   "outputs": [],
   "source": [
    "np.random.seed(1)"
   ]
  },
  {
   "cell_type": "code",
   "execution_count": 22,
   "id": "0c0134ba",
   "metadata": {},
   "outputs": [],
   "source": [
    "weights = 2* np.random.random((3,1)) - 1"
   ]
  },
  {
   "cell_type": "code",
   "execution_count": 23,
   "id": "ea27d967",
   "metadata": {},
   "outputs": [
    {
     "name": "stdout",
     "output_type": "stream",
     "text": [
      "Initial weights are:\n",
      "[[-0.16595599]\n",
      " [ 0.44064899]\n",
      " [-0.99977125]]\n"
     ]
    }
   ],
   "source": [
    "print('Initial weights are:')\n",
    "print(weights)"
   ]
  },
  {
   "cell_type": "code",
   "execution_count": 25,
   "id": "6c55a4f9",
   "metadata": {},
   "outputs": [],
   "source": [
    "for i in range(10000):\n",
    "    input_layer = input\n",
    "    o_output = sigmoid(np.dot(input_layer, weights))"
   ]
  },
  {
   "cell_type": "code",
   "execution_count": null,
   "id": "2b16790a",
   "metadata": {},
   "outputs": [],
   "source": [
    "loss = o_output - a_output"
   ]
  },
  {
   "cell_type": "code",
   "execution_count": null,
   "id": "6dd976b0",
   "metadata": {},
   "outputs": [],
   "source": [
    "adjustment = loss * sigmoid_derivation(o_output)"
   ]
  },
  {
   "cell_type": "code",
   "execution_count": null,
   "id": "bf27530b",
   "metadata": {},
   "outputs": [],
   "source": [
    "weights = weights + np.dot(input_layer.T, adjustment)"
   ]
  },
  {
   "cell_type": "code",
   "execution_count": 26,
   "id": "27243fe2",
   "metadata": {},
   "outputs": [
    {
     "name": "stdout",
     "output_type": "stream",
     "text": [
      "new weights are:\n",
      "[[-0.16595599]\n",
      " [ 0.44064899]\n",
      " [-0.99977125]]\n",
      "obtained output values are\n",
      "[[0.2689864 ]\n",
      " [0.3262757 ]\n",
      " [0.23762817]\n",
      " [0.36375058]]\n"
     ]
    }
   ],
   "source": [
    "print('new weights are:')\n",
    "print(weights)\n",
    "\n",
    "print('obtained output values are')\n",
    "print(o_output)"
   ]
  },
  {
   "cell_type": "code",
   "execution_count": null,
   "id": "71fd20f0",
   "metadata": {},
   "outputs": [],
   "source": []
  }
 ],
 "metadata": {
  "kernelspec": {
   "display_name": "Python 3",
   "language": "python",
   "name": "python3"
  },
  "language_info": {
   "codemirror_mode": {
    "name": "ipython",
    "version": 3
   },
   "file_extension": ".py",
   "mimetype": "text/x-python",
   "name": "python",
   "nbconvert_exporter": "python",
   "pygments_lexer": "ipython3",
   "version": "3.8.8"
  }
 },
 "nbformat": 4,
 "nbformat_minor": 5
}
